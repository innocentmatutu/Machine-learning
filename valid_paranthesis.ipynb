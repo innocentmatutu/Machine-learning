{
  "nbformat": 4,
  "nbformat_minor": 0,
  "metadata": {
    "colab": {
      "provenance": [],
      "authorship_tag": "ABX9TyO/lDSp0zVy2qagfjcRuFbX",
      "include_colab_link": true
    },
    "kernelspec": {
      "name": "python3",
      "display_name": "Python 3"
    },
    "language_info": {
      "name": "python"
    }
  },
  "cells": [
    {
      "cell_type": "markdown",
      "metadata": {
        "id": "view-in-github",
        "colab_type": "text"
      },
      "source": [
        "<a href=\"https://colab.research.google.com/github/innocentmatutu/Machine-learning/blob/main/valid_paranthesis.ipynb\" target=\"_parent\"><img src=\"https://colab.research.google.com/assets/colab-badge.svg\" alt=\"Open In Colab\"/></a>"
      ]
    },
    {
      "cell_type": "code",
      "execution_count": 7,
      "metadata": {
        "colab": {
          "base_uri": "https://localhost:8080/"
        },
        "id": "B6sH5Snw49Bs",
        "outputId": "7414654e-fd65-4a51-dd4c-38d17084b514"
      },
      "outputs": [
        {
          "output_type": "execute_result",
          "data": {
            "text/plain": [
              "False"
            ]
          },
          "metadata": {},
          "execution_count": 7
        }
      ],
      "source": [
        "class Solution(object):\n",
        "    def isValid(self, s):\n",
        "\n",
        "      hashmap={')':'(',']':'[','}':'{'}\n",
        "      stack = []\n",
        "\n",
        "      for c in s:#opening bracket\n",
        "        if c not in hashmap:\n",
        "          stack.append(c)\n",
        "        else: #closing bracket\n",
        "          if not stack:\n",
        "            return False\n",
        "          else:\n",
        "            popped = stack.pop()\n",
        "            if popped != hashmap[c]:\n",
        "              return False\n",
        "      return not stack\n",
        "para = Solution()\n",
        "#para.isValid('()')\n",
        "#para.isValid('()[]{}')\n",
        "para.isValid('(]')\n",
        "#para.isValid('{}')\n",
        "#para.isValid('you')\n"
      ]
    }
  ]
}