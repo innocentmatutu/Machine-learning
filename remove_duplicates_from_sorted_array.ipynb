{
  "nbformat": 4,
  "nbformat_minor": 0,
  "metadata": {
    "colab": {
      "provenance": [],
      "authorship_tag": "ABX9TyMkKrh28nswl/Q4aLieSi0B",
      "include_colab_link": true
    },
    "kernelspec": {
      "name": "python3",
      "display_name": "Python 3"
    },
    "language_info": {
      "name": "python"
    }
  },
  "cells": [
    {
      "cell_type": "markdown",
      "metadata": {
        "id": "view-in-github",
        "colab_type": "text"
      },
      "source": [
        "<a href=\"https://colab.research.google.com/github/innocentmatutu/Machine-learning/blob/main/remove_duplicates_from_sorted_array.ipynb\" target=\"_parent\"><img src=\"https://colab.research.google.com/assets/colab-badge.svg\" alt=\"Open In Colab\"/></a>"
      ]
    },
    {
      "cell_type": "code",
      "execution_count": 3,
      "metadata": {
        "colab": {
          "base_uri": "https://localhost:8080/"
        },
        "id": "Zdzr45ThHT0_",
        "outputId": "9d2e0a79-ba76-4fcd-8bed-0d4fee61f736"
      },
      "outputs": [
        {
          "output_type": "stream",
          "name": "stdout",
          "text": [
            "5\n"
          ]
        }
      ],
      "source": [
        "nums=[0,0,1,1,1,2,2,3,3,4]\n",
        "\n",
        "j=1\n",
        "n=len(nums)\n",
        "\n",
        "for i in range(1,n):\n",
        "  if nums[i] != nums[i-1]:\n",
        "    nums[j] = nums[i]\n",
        "    j+=1\n",
        "print(j)\n",
        "\n",
        "\n",
        ""
      ]
    }
  ]
}