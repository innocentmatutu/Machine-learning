{
  "nbformat": 4,
  "nbformat_minor": 0,
  "metadata": {
    "colab": {
      "provenance": [],
      "authorship_tag": "ABX9TyPfGGH6Jsc0wShXz2EFiBl1",
      "include_colab_link": true
    },
    "kernelspec": {
      "name": "python3",
      "display_name": "Python 3"
    },
    "language_info": {
      "name": "python"
    }
  },
  "cells": [
    {
      "cell_type": "markdown",
      "metadata": {
        "id": "view-in-github",
        "colab_type": "text"
      },
      "source": [
        "<a href=\"https://colab.research.google.com/github/innocentmatutu/Machine-learning/blob/main/Roman_to_integer.ipynb\" target=\"_parent\"><img src=\"https://colab.research.google.com/assets/colab-badge.svg\" alt=\"Open In Colab\"/></a>"
      ]
    },
    {
      "cell_type": "code",
      "execution_count": null,
      "metadata": {
        "id": "8HCkRxA6OhCb"
      },
      "outputs": [],
      "source": [
        "s='MCMXCIV'\n",
        "d={'I':1,'V':5,'X':10,'L':50,'C':100,'D':500,'M':1000}\n",
        "\n",
        "n=len(s)\n",
        "i=0\n",
        "summ=0\n",
        "\n",
        "while i<n:\n",
        "  if i < n-1 and d[s[i]] < d[s[i+1]]:\n",
        "    summ+= d[s[i+1]] - d[s[i]]\n",
        "    i+=2\n",
        "  else:\n",
        "    summ+=d[s[i]]\n",
        "    i+=1\n",
        "print(summ)"
      ]
    }
  ]
}