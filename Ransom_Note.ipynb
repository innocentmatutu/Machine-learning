{
  "nbformat": 4,
  "nbformat_minor": 0,
  "metadata": {
    "colab": {
      "provenance": [],
      "authorship_tag": "ABX9TyPXq7ISi3a3Vuiqkx6x8NwQ",
      "include_colab_link": true
    },
    "kernelspec": {
      "name": "python3",
      "display_name": "Python 3"
    },
    "language_info": {
      "name": "python"
    }
  },
  "cells": [
    {
      "cell_type": "markdown",
      "metadata": {
        "id": "view-in-github",
        "colab_type": "text"
      },
      "source": [
        "<a href=\"https://colab.research.google.com/github/innocentmatutu/Machine-learning/blob/main/Ransom_Note.ipynb\" target=\"_parent\"><img src=\"https://colab.research.google.com/assets/colab-badge.svg\" alt=\"Open In Colab\"/></a>"
      ]
    },
    {
      "cell_type": "code",
      "execution_count": 3,
      "metadata": {
        "colab": {
          "base_uri": "https://localhost:8080/"
        },
        "id": "6-Rfol3rPzdt",
        "outputId": "b0ac7bb7-5de6-4108-df43-2de17e7089ed"
      },
      "outputs": [
        {
          "output_type": "stream",
          "name": "stdout",
          "text": [
            "True\n"
          ]
        }
      ],
      "source": [
        "def ransom_note(Note,magazine):\n",
        "  counter={}\n",
        "  for c in magazine:\n",
        "    if c not in counter:\n",
        "      counter[c]=1\n",
        "    else:\n",
        "      counter[c]+=1\n",
        "\n",
        "  for c in Note:\n",
        "    if c not in counter:\n",
        "      return False\n",
        "    elif counter[c]==1:\n",
        "      del counter[c]\n",
        "    else:\n",
        "      counter[c]-=1\n",
        "  return True\n",
        "\n",
        "note=ransom_note('aa','aab')\n",
        "print(note)"
      ]
    }
  ]
}