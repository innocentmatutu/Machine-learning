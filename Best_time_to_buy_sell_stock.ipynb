{
  "nbformat": 4,
  "nbformat_minor": 0,
  "metadata": {
    "colab": {
      "provenance": [],
      "authorship_tag": "ABX9TyM+ivhMFmWZyocn1vdXSIEg",
      "include_colab_link": true
    },
    "kernelspec": {
      "name": "python3",
      "display_name": "Python 3"
    },
    "language_info": {
      "name": "python"
    }
  },
  "cells": [
    {
      "cell_type": "markdown",
      "metadata": {
        "id": "view-in-github",
        "colab_type": "text"
      },
      "source": [
        "<a href=\"https://colab.research.google.com/github/innocentmatutu/Machine-learning/blob/main/Best_time_to_buy_sell_stock.ipynb\" target=\"_parent\"><img src=\"https://colab.research.google.com/assets/colab-badge.svg\" alt=\"Open In Colab\"/></a>"
      ]
    },
    {
      "cell_type": "code",
      "execution_count": 1,
      "metadata": {
        "colab": {
          "base_uri": "https://localhost:8080/"
        },
        "id": "v6fuzNHfh7Gv",
        "outputId": "9c58d9c3-1b70-4871-b7a7-534fb94c7126"
      },
      "outputs": [
        {
          "output_type": "stream",
          "name": "stdout",
          "text": [
            "5\n"
          ]
        }
      ],
      "source": [
        "prices=[7,1,5,3,6,4]\n",
        "\n",
        "min_price=float('inf')\n",
        "max_profit=0\n",
        "\n",
        "for price in prices:\n",
        "  if price < min_price:\n",
        "    min_price=price\n",
        "  profit=price-min_price\n",
        "\n",
        "  if profit > max_profit:\n",
        "    max_profit=profit\n",
        "\n",
        "print(max_profit)\n"
      ]
    }
  ]
}