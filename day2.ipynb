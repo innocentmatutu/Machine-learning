{
  "nbformat": 4,
  "nbformat_minor": 0,
  "metadata": {
    "colab": {
      "provenance": [],
      "authorship_tag": "ABX9TyMVP5O/igyGkxpHeKhD5vwc",
      "include_colab_link": true
    },
    "kernelspec": {
      "name": "python3",
      "display_name": "Python 3"
    },
    "language_info": {
      "name": "python"
    }
  },
  "cells": [
    {
      "cell_type": "markdown",
      "metadata": {
        "id": "view-in-github",
        "colab_type": "text"
      },
      "source": [
        "<a href=\"https://colab.research.google.com/github/innocentmatutu/Machine-learning/blob/main/day2.ipynb\" target=\"_parent\"><img src=\"https://colab.research.google.com/assets/colab-badge.svg\" alt=\"Open In Colab\"/></a>"
      ]
    },
    {
      "cell_type": "code",
      "execution_count": 3,
      "metadata": {
        "colab": {
          "base_uri": "https://localhost:8080/"
        },
        "id": "9-xV6SBPDMD3",
        "outputId": "8c3b0278-bda2-45fd-c4dc-8856bfbf4949"
      },
      "outputs": [
        {
          "output_type": "stream",
          "name": "stdout",
          "text": [
            "[1, 2, 3, 3, 4, 5, 6]\n"
          ]
        }
      ],
      "source": [
        "nums1=[1,2,3,4,0,0,0]\n",
        "m=4\n",
        "nums2=[3,5,6]\n",
        "n=3\n",
        "x,y=m-1,n-1\n",
        "\n",
        "for z in range(n+m-1,-1,-1):\n",
        "  if x < 0:\n",
        "    nums1[z]=nums2[y]\n",
        "    x-=1\n",
        "  elif y < 0:\n",
        "    break\n",
        "  elif nums1[x]>nums2[y]:\n",
        "    nums1[z]=nums1[x]\n",
        "    x-=1\n",
        "  else:\n",
        "    nums1[z]=nums2[y]\n",
        "    y-=1\n",
        "print(nums1)\n"
      ]
    }
  ]
}