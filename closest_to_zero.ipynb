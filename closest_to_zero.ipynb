{
  "nbformat": 4,
  "nbformat_minor": 0,
  "metadata": {
    "colab": {
      "provenance": [],
      "authorship_tag": "ABX9TyMgq4g8dK1PdlRf9iV7dqp6",
      "include_colab_link": true
    },
    "kernelspec": {
      "name": "python3",
      "display_name": "Python 3"
    },
    "language_info": {
      "name": "python"
    }
  },
  "cells": [
    {
      "cell_type": "markdown",
      "metadata": {
        "id": "view-in-github",
        "colab_type": "text"
      },
      "source": [
        "<a href=\"https://colab.research.google.com/github/innocentmatutu/Machine-learning/blob/main/closest_to_zero.ipynb\" target=\"_parent\"><img src=\"https://colab.research.google.com/assets/colab-badge.svg\" alt=\"Open In Colab\"/></a>"
      ]
    },
    {
      "cell_type": "code",
      "source": [
        "from typing import List\n",
        "\n",
        "class Solution:\n",
        "    def findClosestNumber(self, nums: List[int]) -> int:\n",
        "        closest = nums[0]  # start with first element\n",
        "\n",
        "        for x in nums:\n",
        "            if abs(x) < abs(closest):\n",
        "                closest = x\n",
        "            elif abs(x) == abs(closest)  :\n",
        "                # prefer the positive one in case of tie\n",
        "                closest = x\n",
        "        return closest\n",
        "\n",
        "sol = Solution()\n",
        "print(sol.findClosestNumber([-2, 5, 3, 4]))  # Output: -2\n"
      ],
      "metadata": {
        "colab": {
          "base_uri": "https://localhost:8080/"
        },
        "id": "-8hAVpaWBiXv",
        "outputId": "7910badb-9f32-45ec-e906-3b8510954c02"
      },
      "execution_count": 7,
      "outputs": [
        {
          "output_type": "stream",
          "name": "stdout",
          "text": [
            "-2\n"
          ]
        }
      ]
    }
  ]
}