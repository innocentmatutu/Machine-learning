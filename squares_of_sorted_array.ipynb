{
  "nbformat": 4,
  "nbformat_minor": 0,
  "metadata": {
    "colab": {
      "provenance": [],
      "authorship_tag": "ABX9TyOnhoygrAIZgWD1uWpJiwKS",
      "include_colab_link": true
    },
    "kernelspec": {
      "name": "python3",
      "display_name": "Python 3"
    },
    "language_info": {
      "name": "python"
    }
  },
  "cells": [
    {
      "cell_type": "markdown",
      "metadata": {
        "id": "view-in-github",
        "colab_type": "text"
      },
      "source": [
        "<a href=\"https://colab.research.google.com/github/innocentmatutu/Machine-learning/blob/main/squares_of_sorted_array.ipynb\" target=\"_parent\"><img src=\"https://colab.research.google.com/assets/colab-badge.svg\" alt=\"Open In Colab\"/></a>"
      ]
    },
    {
      "cell_type": "code",
      "execution_count": 2,
      "metadata": {
        "colab": {
          "base_uri": "https://localhost:8080/"
        },
        "id": "n1GNkvtOj29z",
        "outputId": "5796e89f-f673-482c-b3e6-c0a71ea17fe6"
      },
      "outputs": [
        {
          "output_type": "stream",
          "name": "stdout",
          "text": [
            "[1, 9, 16, 100]\n"
          ]
        }
      ],
      "source": [
        "def squares(nums):\n",
        "  left=0\n",
        "  right=len(nums)-1\n",
        "  result=[]\n",
        "\n",
        "  while left<right:\n",
        "    if abs(nums[left]) > abs(nums[right]):\n",
        "      result.append(nums[left]**2)\n",
        "      left+=1\n",
        "    else:\n",
        "      result.append(nums[right]**2)\n",
        "      right-=1\n",
        "\n",
        "  result.reverse()\n",
        "\n",
        "  return result\n",
        "\n",
        "print(squares([-4,-1,0,3,10]))"
      ]
    }
  ]
}