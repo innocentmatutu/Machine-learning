{
  "nbformat": 4,
  "nbformat_minor": 0,
  "metadata": {
    "colab": {
      "provenance": [],
      "authorship_tag": "ABX9TyMTpiInM2ntlmUtIqcVF2tk",
      "include_colab_link": true
    },
    "kernelspec": {
      "name": "python3",
      "display_name": "Python 3"
    },
    "language_info": {
      "name": "python"
    }
  },
  "cells": [
    {
      "cell_type": "markdown",
      "metadata": {
        "id": "view-in-github",
        "colab_type": "text"
      },
      "source": [
        "<a href=\"https://colab.research.google.com/github/innocentmatutu/Machine-learning/blob/main/Tsunami_prediction.ipynb\" target=\"_parent\"><img src=\"https://colab.research.google.com/assets/colab-badge.svg\" alt=\"Open In Colab\"/></a>"
      ]
    },
    {
      "cell_type": "code",
      "execution_count": 38,
      "metadata": {
        "colab": {
          "base_uri": "https://localhost:8080/"
        },
        "id": "jhKgdv7f-FDk",
        "outputId": "974bd2f3-d0be-4f7b-cca5-a1695a77f532"
      },
      "outputs": [
        {
          "output_type": "stream",
          "name": "stdout",
          "text": [
            "Accuracy score: 0.9235668789808917\n",
            "Precision score: 0.8870967741935484\n",
            "Recall score: 0.9166666666666666\n",
            "F1 score: 0.9016393442622951\n"
          ]
        }
      ],
      "source": [
        "from os import X_OK\n",
        "import pandas as pd\n",
        "import matplotlib.pyplot as plt\n",
        "import seaborn as sns\n",
        "from sklearn.preprocessing import LabelEncoder\n",
        "from sklearn.impute import SimpleImputer\n",
        "from sklearn.model_selection import train_test_split\n",
        "from sklearn.ensemble import RandomForestRegressor,GradientBoostingRegressor\n",
        "from sklearn.linear_model import LinearRegression\n",
        "import xgboost as xgb\n",
        "from sklearn.metrics import accuracy_score,precision_score,recall_score,f1_score\n",
        "\n",
        "df=pd.read_csv('/content/archive (7).zip')\n",
        "\n",
        "#Encoding of categorical columns(just for formality since data does not contain it)\n",
        "for col in df.select_dtypes(include=['object']).columns:\n",
        "   encoder = LabelEncoder()\n",
        "   df[col] = encoder.fit_transform(df[col])\n",
        "\n",
        "#Filling missing values with the mean along each column\n",
        "def impute_with_extension(X_train,X_valid):\n",
        "  cols_with_missing = [col for col in X_train.columns if X_train[col].isnull().any()]\n",
        "  X_train_plus = X_train.copy()\n",
        "  X_valid_plus = X_valid.copy()\n",
        "\n",
        "  for col in cols_with_missing:\n",
        "    X_train_plus[col + '_was_missing'] = X_train_plus[col].isnull()\n",
        "    X_valid_plus[col + '_was_missing'] = X_valid_plus[col].isnull()\n",
        "\n",
        "  imputer = SimpleImputer(strategy='mean')\n",
        "  imputed_X_train = pd.DataFrame(imputer.fit_transform(X_train_plus),columns = X_train_plus.columns)\n",
        "  imputed_X_valid = pd.DataFrame(imputer.transform(X_valid_plus),columns = X_valid_plus.columns)\n",
        "\n",
        "  return imputed_X_train, imputed_X_valid\n",
        "\n",
        "#Feature and target selection\n",
        "#features = ['longitude','Year','nst','dmin','cdi','gap','latitude']\n",
        "features = ['longitude','Year','latitude','dmin']\n",
        "X = df[features]\n",
        "y = df['tsunami']\n",
        "df.drop(['tsunami'],axis=1,inplace=True)\n",
        "\n",
        "#Training,testing and spliting of data\n",
        "X_train, X_valid, y_train, y_valid = train_test_split(X, y, test_size=0.2, random_state=1)\n",
        "\n",
        "#Calling of the imputed data columns\n",
        "imputed_X_train, imputed_X_valid = impute_with_extension(X_train,X_valid)\n",
        "\n",
        "#Model selection,training and prediction\n",
        "model = xgb.XGBClassifier(n_estimators=500,learning_rate=0.01,max_depth=6,n_jobs=1)\n",
        "model.fit(imputed_X_train,y_train)\n",
        "prediction = model.predict(imputed_X_valid)\n",
        "\n",
        "#metrics\n",
        "print('Accuracy score:', accuracy_score(y_valid,prediction))\n",
        "print('Precision score:', precision_score(y_valid,prediction))\n",
        "print('Recall score:',recall_score(y_valid,prediction))\n",
        "print('F1 score:', f1_score(y_valid,prediction))\n",
        "\n"
      ]
    }
  ]
}