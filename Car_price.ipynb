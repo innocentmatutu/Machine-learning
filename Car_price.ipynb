{
  "nbformat": 4,
  "nbformat_minor": 0,
  "metadata": {
    "colab": {
      "provenance": [],
      "authorship_tag": "ABX9TyMdELQ8AryWot1nXlKJDXPb",
      "include_colab_link": true
    },
    "kernelspec": {
      "name": "python3",
      "display_name": "Python 3"
    },
    "language_info": {
      "name": "python"
    }
  },
  "cells": [
    {
      "cell_type": "markdown",
      "metadata": {
        "id": "view-in-github",
        "colab_type": "text"
      },
      "source": [
        "<a href=\"https://colab.research.google.com/github/innocentmatutu/Machine-learning/blob/main/Car_price.ipynb\" target=\"_parent\"><img src=\"https://colab.research.google.com/assets/colab-badge.svg\" alt=\"Open In Colab\"/></a>"
      ]
    },
    {
      "cell_type": "code",
      "execution_count": 20,
      "metadata": {
        "colab": {
          "base_uri": "https://localhost:8080/"
        },
        "id": "jQVHa_bMH8Yh",
        "outputId": "0f6a3931-7c90-472c-a961-44f59d8879aa"
      },
      "outputs": [
        {
          "output_type": "stream",
          "name": "stdout",
          "text": [
            "Accuracy score: 0.6932\n",
            "Precision score: 0.6932\n",
            "Recall score: 1.0\n",
            "F1 score: 0.8188046302858493\n"
          ]
        }
      ],
      "source": [
        "import pandas as pd\n",
        "from sklearn.model_selection import train_test_split\n",
        "from sklearn.preprocessing import LabelEncoder,StandardScaler,OneHotEncoder\n",
        "from sklearn.ensemble import RandomForestClassifier\n",
        "from sklearn.metrics import accuracy_score,precision_score,recall_score,f1_score\n",
        "import xgboost as xgb\n",
        "\n",
        "\n",
        "df=pd.read_csv('/content/archive (6).zip')\n",
        "\n",
        "#Encoding of categorical columns\n",
        "for col in df.select_dtypes(include=['object']).columns:\n",
        "  encoder = LabelEncoder()\n",
        "  df[col] = encoder.fit_transform(df[col])\n",
        "\n",
        "#Feature and target selection\n",
        "features = ['Model','Year','Fuel_Type','Transmission','Engine_Size_L','Mileage_KM','Price_USD']\n",
        "X = df[features]\n",
        "y = df['Sales_Classification']\n",
        "df.drop(['Sales_Classification'],axis=1,inplace=True)\n",
        "\n",
        "#Training,testing and spliting of data\n",
        "X_train, X_valid, y_train, y_valid = train_test_split(X, y, test_size=0.2, random_state=1)\n",
        "\n",
        "#Model fitting and prediction\n",
        "model = RandomForestClassifier(n_estimators=100,max_depth=5)\n",
        "model.fit(X_train,y_train)\n",
        "prediction = model.predict(X_valid)\n",
        "\n",
        "importances = model.feature_importances_\n",
        "pd.Series(importances,index=X_train.columns).sort_values(ascending=False)\n",
        "\n",
        "#Metrics\n",
        "print('Accuracy score:',accuracy_score(y_valid,prediction))\n",
        "print('Precision score:',precision_score(y_valid,prediction))\n",
        "print('Recall score:',recall_score(y_valid,prediction))\n",
        "print('F1 score:',f1_score(y_valid,prediction))\n",
        "\n",
        "\n",
        "\n",
        "\n",
        "\n",
        "\n",
        "\n",
        "\n",
        "\n",
        "\n",
        "\n"
      ]
    }
  ]
}