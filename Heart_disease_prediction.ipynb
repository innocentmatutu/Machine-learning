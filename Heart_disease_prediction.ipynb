{
  "nbformat": 4,
  "nbformat_minor": 0,
  "metadata": {
    "colab": {
      "provenance": [],
      "authorship_tag": "ABX9TyMli8BXSfFIpRKGMafjDlrI",
      "include_colab_link": true
    },
    "kernelspec": {
      "name": "python3",
      "display_name": "Python 3"
    },
    "language_info": {
      "name": "python"
    }
  },
  "cells": [
    {
      "cell_type": "markdown",
      "metadata": {
        "id": "view-in-github",
        "colab_type": "text"
      },
      "source": [
        "<a href=\"https://colab.research.google.com/github/innocentmatutu/Machine-learning/blob/main/Heart_disease_prediction.ipynb\" target=\"_parent\"><img src=\"https://colab.research.google.com/assets/colab-badge.svg\" alt=\"Open In Colab\"/></a>"
      ]
    },
    {
      "cell_type": "code",
      "execution_count": 13,
      "metadata": {
        "colab": {
          "base_uri": "https://localhost:8080/"
        },
        "id": "Ys8f7JSNNrxi",
        "outputId": "13f2531b-3a84-4857-d703-e17f85120e15"
      },
      "outputs": [
        {
          "output_type": "stream",
          "name": "stdout",
          "text": [
            "Accuracy score: 0.8858695652173914\n",
            "Precision score: 0.908256880733945\n",
            "Recall score: 0.9\n",
            "F1 score: 0.9041095890410958\n"
          ]
        }
      ],
      "source": [
        "import pandas as pd\n",
        "from sklearn.preprocessing import LabelEncoder\n",
        "from sklearn.impute import SimpleImputer\n",
        "from sklearn.model_selection import train_test_split\n",
        "from sklearn.ensemble import RandomForestClassifier\n",
        "import xgboost as xgb\n",
        "from sklearn.metrics import accuracy_score,precision_score,recall_score,f1_score\n",
        "\n",
        "df = pd.read_csv(\"/content/archive (9).zip\")\n",
        "\n",
        "#Encoding of categorical columns\n",
        "for col in df.select_dtypes(include=['object']).columns:\n",
        "  encoder = LabelEncoder()\n",
        "  df[col] = encoder.fit_transform(df[col])\n",
        "\n",
        "#Filling missing values with the mean in the numerical columns\n",
        "def impute_with_extension(X_train,X_valid):\n",
        "  cols_with_missing = [col for col in X_train.columns if df[col].isnull().any()]\n",
        "  X_train_plus = X_train.copy()\n",
        "  X_valid_plus = X_valid.copy()\n",
        "\n",
        "  for col in cols_with_missing:\n",
        "    X_train_plus[col +'_was_missing'] = X_train_plus.isnull()\n",
        "    X_valid_plus[col +'_was_missing'] = X_valid_plus.isnull()\n",
        "\n",
        "  impute = SimpleImputer(strategy='constant')\n",
        "  imputed_X_train = pd.DataFrame(impute.fit_transform(X_train_plus),columns = X_train_plus.columns)\n",
        "  imputed_X_valid = pd.DataFrame(impute.transform(X_valid_plus),columns = X_valid_plus.columns)\n",
        "\n",
        "  return imputed_X_train,imputed_X_valid\n",
        "\n",
        "#Feature and target selection\n",
        "y = df['HeartDisease']\n",
        "df.drop(['HeartDisease'],axis=1,inplace=True)\n",
        "\n",
        "features = ['Age','Sex','ChestPainType','RestingBP','Cholesterol', 'FastingBS',\n",
        "       'RestingECG', 'MaxHR', 'ExerciseAngina', 'Oldpeak', 'ST_Slope']\n",
        "X = df[features]\n",
        "\n",
        "#Training,testing and spliting of the rows\n",
        "X_train, X_valid, y_train, y_valid = train_test_split(X, y, test_size=0.2, random_state=1)\n",
        "\n",
        "imputed_X_train,imputed_X_valid = impute_with_extension(X_train,X_valid)\n",
        "\n",
        "#Model selection,training and predicting\n",
        "model = xgb.XGBClassifier(n_estimators=500,learning_rate=0.05)\n",
        "model.fit(imputed_X_train,y_train)\n",
        "prediction = model.predict(imputed_X_valid)\n",
        "\n",
        "#Metrics\n",
        "print(f'Accuracy score: {accuracy_score(y_valid,prediction)}')\n",
        "print(f'Precision score: {precision_score(y_valid,prediction)}')\n",
        "print(f'Recall score: {recall_score(y_valid,prediction)}')\n",
        "print(f'F1 score: {f1_score(y_valid,prediction)}')\n"
      ]
    }
  ]
}