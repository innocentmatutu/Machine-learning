{
  "nbformat": 4,
  "nbformat_minor": 0,
  "metadata": {
    "colab": {
      "provenance": [],
      "authorship_tag": "ABX9TyNoHMfsfiwkQuqBpS9Ddb6s",
      "include_colab_link": true
    },
    "kernelspec": {
      "name": "python3",
      "display_name": "Python 3"
    },
    "language_info": {
      "name": "python"
    }
  },
  "cells": [
    {
      "cell_type": "markdown",
      "metadata": {
        "id": "view-in-github",
        "colab_type": "text"
      },
      "source": [
        "<a href=\"https://colab.research.google.com/github/innocentmatutu/Machine-learning/blob/main/Medical_costs.ipynb\" target=\"_parent\"><img src=\"https://colab.research.google.com/assets/colab-badge.svg\" alt=\"Open In Colab\"/></a>"
      ]
    },
    {
      "cell_type": "code",
      "execution_count": 9,
      "metadata": {
        "colab": {
          "base_uri": "https://localhost:8080/"
        },
        "id": "rtpaysKvG7Ef",
        "outputId": "07fd25f4-f097-4aef-dd5a-fc2eb57d0fd8"
      },
      "outputs": [
        {
          "output_type": "stream",
          "name": "stdout",
          "text": [
            "Mean absolute error: 2978.5289330644564\n",
            "Mean absolute percentage error: 0.3772056113113027\n",
            "r2 score: 0.8239462963691347\n",
            "root mean squared error: 5126.539718343397\n"
          ]
        }
      ],
      "source": [
        "import pandas as pd\n",
        "from sklearn.preprocessing import LabelEncoder\n",
        "from sklearn.impute import SimpleImputer\n",
        "from sklearn.model_selection import train_test_split\n",
        "from sklearn.metrics import mean_absolute_error,mean_absolute_percentage_error,r2_score,root_mean_squared_error\n",
        "import xgboost as xgb\n",
        "\n",
        "df = pd.read_csv(\"/content/archive (8).zip\")\n",
        "\n",
        "#Encoding of categorical data\n",
        "for col in df.select_dtypes(include=['object']).columns:\n",
        "   encoder = LabelEncoder()\n",
        "   df[col] = encoder.fit_transform(df[col])\n",
        "\n",
        "#Filling missing values with the mean along each column--formality\n",
        "def impute_with_extension(X_train,X_valid):\n",
        "  cols_with_missing = [col for col in X_train.columns if X_train[col].isnull().any()]\n",
        "  X_train_plus = X_train.copy()\n",
        "  X_valid_plus = X_valid.copy()\n",
        "\n",
        "  for col in cols_with_missing:\n",
        "    X_train_plus[col +'_was_missing'] = X_train_plus[col].isnull()\n",
        "    X_valid_plus[col +'_was_missing'] = X_train_plus[col].isnull()\n",
        "\n",
        "  impute = SimpleImputer(strategy='mean')\n",
        "  imputed_X_train = pd.DataFrame(impute.fit_transform(X_train_plus),columns = X_train_plus.columns)\n",
        "  imputed_X_valid = pd.DataFrame(impute.transform(X_valid_plus),columns = X_valid_plus.columns)\n",
        "\n",
        "  return imputed_X_train, imputed_X_valid\n",
        "\n",
        "#Feature and target selection\n",
        "features = ['age','sex','bmi','children','smoker','region']\n",
        "X = df[features]\n",
        "y = df['charges']\n",
        "df.drop(['charges'],axis=1,inplace=True)\n",
        "\n",
        "#Train, test and split\n",
        "X_train, X_valid, y_train, y_valid = train_test_split(X, y, test_size=0.2,random_state=1)\n",
        "\n",
        "imputed_X_train, imputed_X_valid = impute_with_extension(X_train,X_valid)\n",
        "\n",
        "#Model selection,training and prediction\n",
        "model = xgb.XGBRegressor()\n",
        "model.fit(imputed_X_train,y_train)\n",
        "prediction = model.predict(imputed_X_valid)\n",
        "\n",
        "#Metrics\n",
        "print('Mean absolute error:', mean_absolute_error(y_valid,prediction))\n",
        "print('Mean absolute percentage error:', mean_absolute_percentage_error(y_valid,prediction))\n",
        "print('r2 score:',r2_score(y_valid,prediction))\n",
        "print('root mean squared error:',root_mean_squared_error(y_valid,prediction))\n",
        "\n",
        "\n"
      ]
    }
  ]
}