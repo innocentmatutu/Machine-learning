{
  "nbformat": 4,
  "nbformat_minor": 0,
  "metadata": {
    "colab": {
      "provenance": [],
      "authorship_tag": "ABX9TyMWBzfnd47PV6/l+k+NYynf",
      "include_colab_link": true
    },
    "kernelspec": {
      "name": "python3",
      "display_name": "Python 3"
    },
    "language_info": {
      "name": "python"
    }
  },
  "cells": [
    {
      "cell_type": "markdown",
      "metadata": {
        "id": "view-in-github",
        "colab_type": "text"
      },
      "source": [
        "<a href=\"https://colab.research.google.com/github/innocentmatutu/Machine-learning/blob/main/is_subsequence.ipynb\" target=\"_parent\"><img src=\"https://colab.research.google.com/assets/colab-badge.svg\" alt=\"Open In Colab\"/></a>"
      ]
    },
    {
      "cell_type": "code",
      "execution_count": 6,
      "metadata": {
        "colab": {
          "base_uri": "https://localhost:8080/"
        },
        "id": "v4mMPHjeHPgE",
        "outputId": "9b87756e-0181-45d3-bb1b-fd0a3831f88d"
      },
      "outputs": [
        {
          "output_type": "stream",
          "name": "stdout",
          "text": [
            "True\n"
          ]
        }
      ],
      "source": [
        "S='acf'\n",
        "T='abcdef'\n",
        "\n",
        "s=len(S)\n",
        "t=len(T)\n",
        "if S=='':\n",
        "  print('True')\n",
        "elif s > t:\n",
        "  print('False')\n",
        "else:\n",
        "   j=0\n",
        "   for i in range(t):\n",
        "     if T[i]==S[j]:\n",
        "       if j==s-1:\n",
        "         print('True')\n",
        "         break\n",
        "       j+=1\n",
        "   else:\n",
        "       print('False')"
      ]
    }
  ]
}