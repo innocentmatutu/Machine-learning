{
  "nbformat": 4,
  "nbformat_minor": 0,
  "metadata": {
    "colab": {
      "provenance": [],
      "authorship_tag": "ABX9TyNbtZEN3QbiXjcvxC/8rxVy",
      "include_colab_link": true
    },
    "kernelspec": {
      "name": "python3",
      "display_name": "Python 3"
    },
    "language_info": {
      "name": "python"
    }
  },
  "cells": [
    {
      "cell_type": "markdown",
      "metadata": {
        "id": "view-in-github",
        "colab_type": "text"
      },
      "source": [
        "<a href=\"https://colab.research.google.com/github/innocentmatutu/Machine-learning/blob/main/valid_anagram.ipynb\" target=\"_parent\"><img src=\"https://colab.research.google.com/assets/colab-badge.svg\" alt=\"Open In Colab\"/></a>"
      ]
    },
    {
      "cell_type": "code",
      "execution_count": 2,
      "metadata": {
        "colab": {
          "base_uri": "https://localhost:8080/"
        },
        "id": "6BXYWLKddOsu",
        "outputId": "b7ac17f0-d4ff-4794-e688-c1783d910ca5"
      },
      "outputs": [
        {
          "output_type": "stream",
          "name": "stdout",
          "text": [
            "True\n"
          ]
        }
      ],
      "source": [
        "def valid_anagram(s,t):\n",
        "  if len(s) != len(t):\n",
        "    return False\n",
        "  counter={}\n",
        "  for c in s:\n",
        "    if c in counter:\n",
        "      counter[c]+=1\n",
        "    else:\n",
        "      counter[c]=1\n",
        "\n",
        "  for c in t:\n",
        "    if c not in counter:\n",
        "      return False\n",
        "    elif counter[c]==1:\n",
        "      del counter[c]\n",
        "    else:\n",
        "      counter[c]-=1\n",
        "  return True\n",
        "\n",
        "valid = valid_anagram('anagram','nagaram')\n",
        "print(valid)"
      ]
    }
  ]
}