{
  "nbformat": 4,
  "nbformat_minor": 0,
  "metadata": {
    "colab": {
      "provenance": [],
      "authorship_tag": "ABX9TyMwETa5F4UNtxjaM1+tO5qM",
      "include_colab_link": true
    },
    "kernelspec": {
      "name": "python3",
      "display_name": "Python 3"
    },
    "language_info": {
      "name": "python"
    }
  },
  "cells": [
    {
      "cell_type": "markdown",
      "metadata": {
        "id": "view-in-github",
        "colab_type": "text"
      },
      "source": [
        "<a href=\"https://colab.research.google.com/github/innocentmatutu/Machine-learning/blob/main/Remove_element.ipynb\" target=\"_parent\"><img src=\"https://colab.research.google.com/assets/colab-badge.svg\" alt=\"Open In Colab\"/></a>"
      ]
    },
    {
      "cell_type": "code",
      "execution_count": 2,
      "metadata": {
        "colab": {
          "base_uri": "https://localhost:8080/"
        },
        "id": "U-HN0hIVgORx",
        "outputId": "f2314df4-66bb-4499-febd-7d009a9c36ea"
      },
      "outputs": [
        {
          "output_type": "stream",
          "name": "stdout",
          "text": [
            "3\n"
          ]
        }
      ],
      "source": [
        "#the script below is used to remove elements that occur more than once\n",
        "arr=[2,3,1,2,2,2,4]\n",
        "val=2\n",
        "n=len(arr)\n",
        "i=0\n",
        "\n",
        "while i < n:\n",
        "  if arr[i] == val:\n",
        "    arr[i] = arr[n-1]\n",
        "    n-=1\n",
        "  else:\n",
        "    i+=1\n",
        "\n",
        "print(n)"
      ]
    }
  ]
}