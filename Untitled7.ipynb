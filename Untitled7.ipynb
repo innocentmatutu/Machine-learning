{
  "nbformat": 4,
  "nbformat_minor": 0,
  "metadata": {
    "colab": {
      "provenance": [],
      "authorship_tag": "ABX9TyMa4DZ4xASuim4/aKuK2ypa",
      "include_colab_link": true
    },
    "kernelspec": {
      "name": "python3",
      "display_name": "Python 3"
    },
    "language_info": {
      "name": "python"
    }
  },
  "cells": [
    {
      "cell_type": "markdown",
      "metadata": {
        "id": "view-in-github",
        "colab_type": "text"
      },
      "source": [
        "<a href=\"https://colab.research.google.com/github/innocentmatutu/Machine-learning/blob/main/Untitled7.ipynb\" target=\"_parent\"><img src=\"https://colab.research.google.com/assets/colab-badge.svg\" alt=\"Open In Colab\"/></a>"
      ]
    },
    {
      "cell_type": "code",
      "execution_count": 1,
      "metadata": {
        "colab": {
          "base_uri": "https://localhost:8080/"
        },
        "id": "xYkI1BjTOJ6s",
        "outputId": "778d9389-4bc8-4d85-de34-c994ebf4c166"
      },
      "outputs": [
        {
          "output_type": "stream",
          "name": "stdout",
          "text": [
            "['0->2', '5', '7->11', '14->15', '17']\n"
          ]
        }
      ],
      "source": [
        "def summary(num):\n",
        "  ans=[]\n",
        "  i=0\n",
        "\n",
        "  while i<len(num):\n",
        "    start=num[i]\n",
        "\n",
        "    while i<len(num)-1 and num[i]+1 == num[i+1]:\n",
        "      i+=1\n",
        "    if start != num[i]:\n",
        "      ans.append(str(start)+'->'+str(num[i]))\n",
        "    else:\n",
        "      ans.append(str(num[i]))\n",
        "    i+=1\n",
        "  return ans\n",
        "\n",
        "print(summary([0,1,2,5,7,8,9,10,11,14,15,17]))\n",
        "\n",
        ""
      ]
    }
  ]
}