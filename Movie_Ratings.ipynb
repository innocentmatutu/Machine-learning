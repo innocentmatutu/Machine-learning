{
  "nbformat": 4,
  "nbformat_minor": 0,
  "metadata": {
    "colab": {
      "provenance": [],
      "authorship_tag": "ABX9TyMJMyBEhTWtTLTlevWSNYMP",
      "include_colab_link": true
    },
    "kernelspec": {
      "name": "python3",
      "display_name": "Python 3"
    },
    "language_info": {
      "name": "python"
    }
  },
  "cells": [
    {
      "cell_type": "markdown",
      "metadata": {
        "id": "view-in-github",
        "colab_type": "text"
      },
      "source": [
        "<a href=\"https://colab.research.google.com/github/innocentmatutu/Machine-learning/blob/main/Movie_Ratings.ipynb\" target=\"_parent\"><img src=\"https://colab.research.google.com/assets/colab-badge.svg\" alt=\"Open In Colab\"/></a>"
      ]
    },
    {
      "cell_type": "code",
      "source": [
        "import pandas as pd\n",
        "from sklearn.model_selection import train_test_split\n",
        "from sklearn.impute import SimpleImputer\n",
        "from sklearn.pipeline import Pipeline\n",
        "from sklearn.preprocessing import OneHotEncoder\n",
        "from sklearn.compose import ColumnTransformer\n",
        "from sklearn.linear_model import LinearRegression\n",
        "import xgboost as xgb\n",
        "from sklearn.metrics import  mean_squared_error,mean_absolute_error,r2_score\n",
        "\n",
        "df = pd.read_csv('/content/archive (10).zip')\n",
        "\n",
        "#Features and target selection\n",
        "y = df['averageRating']\n",
        "df.drop(['averageRating'],axis=1,inplace=True)\n",
        "\n",
        "#Training,testing and spliting of the data\n",
        "X_train, X_valid, y_train, y_valid = train_test_split(df, y ,test_size=0.2,random_state=1)\n",
        "\n",
        "#Select categorical columns with relatively low cardinality\n",
        "categorical_cols = [col for col in df.columns if df[col].nunique() < 10 and\n",
        "                    df[col].dtype == 'object']\n",
        "#Select numerical column\n",
        "numerical_cols = [col for col in df.columns if df[col].dtype in ['int64','float64']]\n",
        "\n",
        "#Combine selected columns\n",
        "my_cols = categorical_cols + numerical_cols\n",
        "X_train = X_train[my_cols].copy()\n",
        "X_valid = X_valid[my_cols].copy()\n",
        "\n",
        "#Preprocessing of numerical columns\n",
        "numerical_transformer = SimpleImputer(strategy='mean')\n",
        "\n",
        "#Preprocessing of categorical columns\n",
        "categorical_transformer = Pipeline(steps=[\n",
        "    ('impute',SimpleImputer(strategy='most_frequent')),\n",
        "    ('encoder',OneHotEncoder(handle_unknown='ignore'))\n",
        "])\n",
        "\n",
        "#Bundle preprocessing of numerical and categorical columns\n",
        "preprocesser = ColumnTransformer(\n",
        "    transformers = [\n",
        "        ('num',numerical_transformer,numerical_cols),\n",
        "        ('cat',categorical_transformer,categorical_cols)\n",
        "    ]\n",
        ")\n",
        "\n",
        "#Modle selection\n",
        "model = xgb.XGBRegressor(n_estimators=500,max_depth=5)\n",
        "\n",
        "#Bundle preprocessing and model into pipeline\n",
        "my_pipeline = Pipeline(steps=[\n",
        "    ('preporcesser',preprocesser),\n",
        "    ('model',model)\n",
        "])\n",
        "\n",
        "#Fit the model\n",
        "my_pipeline.fit(X_train,y_train)\n",
        "\n",
        "#Prediction of the model\n",
        "prediction = my_pipeline.predict(X_valid)\n",
        "\n",
        "#Metrics\n",
        "print(f'Mean squared error: {mean_squared_error(y_valid,prediction):4f}')\n",
        "print(f'Mean absolute error: {mean_absolute_error(y_valid,prediction):4f}')\n",
        "print(f'r2 score: {r2_score(y_valid,prediction):4f}')"
      ],
      "metadata": {
        "colab": {
          "base_uri": "https://localhost:8080/"
        },
        "id": "qM5urmZ6YsHI",
        "outputId": "a1ac923a-859e-4579-8ec9-d1b83269a47d"
      },
      "execution_count": null,
      "outputs": [
        {
          "output_type": "stream",
          "name": "stdout",
          "text": [
            "Mean squared error: 0.001903\n",
            "Mean absolute error: 0.025300\n",
            "r2 score: 0.970217\n"
          ]
        }
      ]
    }
  ]
}