{
  "nbformat": 4,
  "nbformat_minor": 0,
  "metadata": {
    "colab": {
      "provenance": [],
      "authorship_tag": "ABX9TyMC3IWp33DS4wbQ3aEvz0wE",
      "include_colab_link": true
    },
    "kernelspec": {
      "name": "python3",
      "display_name": "Python 3"
    },
    "language_info": {
      "name": "python"
    }
  },
  "cells": [
    {
      "cell_type": "markdown",
      "metadata": {
        "id": "view-in-github",
        "colab_type": "text"
      },
      "source": [
        "<a href=\"https://colab.research.google.com/github/innocentmatutu/Machine-learning/blob/main/product_of_array_except_self.ipynb\" target=\"_parent\"><img src=\"https://colab.research.google.com/assets/colab-badge.svg\" alt=\"Open In Colab\"/></a>"
      ]
    },
    {
      "cell_type": "code",
      "execution_count": 3,
      "metadata": {
        "colab": {
          "base_uri": "https://localhost:8080/"
        },
        "id": "voI1Fsi7XOCV",
        "outputId": "8dea6d12-01db-469a-9c69-302012d6906a"
      },
      "outputs": [
        {
          "output_type": "stream",
          "name": "stdout",
          "text": [
            "[1, 5, 40, 360, 2880]\n"
          ]
        }
      ],
      "source": [
        "def prod(num):\n",
        "  l_mult=1\n",
        "  r_mult=1\n",
        "  n=len(num)\n",
        "  l_arr=[0]*n\n",
        "  r_arr=[0]*n\n",
        "\n",
        "  for i in range(n):\n",
        "    j=-i-1\n",
        "    l_arr[i]=l_mult\n",
        "    r_arr[i]=r_mult\n",
        "    l_mult*=num[i]\n",
        "    r_mult*=num[j]\n",
        "  return[l*r for l,r in zip(l_arr,r_arr)]\n",
        "\n",
        "print(prod([1,2,3,4,5]))\n"
      ]
    }
  ]
}